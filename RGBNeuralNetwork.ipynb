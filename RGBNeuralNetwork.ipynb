{
  "nbformat": 4,
  "nbformat_minor": 0,
  "metadata": {
    "colab": {
      "provenance": []
    },
    "kernelspec": {
      "name": "python3",
      "display_name": "Python 3"
    },
    "language_info": {
      "name": "python"
    }
  },
  "cells": [
    {
      "cell_type": "code",
      "execution_count": null,
      "metadata": {
        "id": "_ICjs9fXc-IJ"
      },
      "outputs": [],
      "source": [
        "# Neural Network for finding colors in an image\n"
      ]
    },
    {
      "cell_type": "code",
      "source": [
        "import torch\n",
        "import torch.nn as nn\n",
        "import torch.nn.functional as F\n",
        "\n",
        "class Net(nn.Module):\n",
        "    def __init__(self):\n",
        "        super(Net, self).__init__()\n",
        "        self.conv1 = nn.Conv2d(3, 6, 5)\n",
        "        self.pool = nn.MaxPool2d(2, 2)\n",
        "        self.conv2 = nn.Conv2d(6, 16, 5)\n",
        "        self.fc1 = nn.Linear(16 * 5 * 5, 120)\n",
        "        self.fc2 = nn.Linear(120, 84)\n",
        "        self.fc3 = nn.Linear(84, 3)\n",
        "\n",
        "    def forward(self, x):\n",
        "        x = self.pool(F.relu(self.conv1(x)))\n",
        "        x = self.pool(F.relu(self.conv2(x)))\n",
        "        x = x.view(-1, 16 * 5 * 5)\n",
        "        x = F.relu(self.fc1(x))\n",
        "        x = F.relu(self.fc2(x))\n",
        "        x = self.fc3(x)\n",
        "        return x\n",
        "\n",
        "net = Net()"
      ],
      "metadata": {
        "id": "RjdtmDsSdLNa"
      },
      "execution_count": 1,
      "outputs": []
    },
    {
      "cell_type": "markdown",
      "source": [
        "\n",
        "This creates a neural network with two convolutional layers and three fully connected layers. The input to the network should be a 3x32x32 tensor, **where 3 is the number of channels (RGB) and 32x32 is the size of the input image.** The output of the network is a 3-dimensional tensor, where each dimension corresponds to the probability of the input image being red, blue, or green.\n",
        "\n",
        "You'll need to train the network on a dataset of images labeled with their corresponding colors. You can use the torchvision.datasets.ImageFolder class to load the images, and the torch.utils.data.DataLoader class to create batches of data to feed into the network during training."
      ],
      "metadata": {
        "id": "ysHCCypZdqMe"
      }
    }
  ]
}